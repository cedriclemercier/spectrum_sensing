{
 "cells": [
  {
   "cell_type": "code",
   "execution_count": 4,
   "id": "c54b0a07",
   "metadata": {},
   "outputs": [],
   "source": [
    "import os\n",
    "import numpy as np\n",
    "import pandas as pd\n",
    "from sklearn.model_selection import train_test_split"
   ]
  },
  {
   "cell_type": "code",
   "execution_count": 5,
   "id": "638d6b85",
   "metadata": {},
   "outputs": [],
   "source": [
    "def get_Xy_to_numpy(data, y_index=11):\n",
    "    '''\n",
    "    Separate target to variables\n",
    "    Args: data = the whole dataset\n",
    "         y_index = the index of the column containing the target\n",
    "    \n",
    "    Returns: X, y\n",
    "    '''\n",
    "    y_df = data.iloc[:, y_index]\n",
    "    X_df = data.iloc[:, 0:y_index]\n",
    "    \n",
    "    X = X_df.to_numpy()\n",
    "    y = y_df.to_numpy()\n",
    "    \n",
    "    return X, y\n",
    "\n",
    "\n",
    "def to_CNN(X):\n",
    "    '''\n",
    "    Transforms data (x1,x2) to (x1, 1, 1, x2) for CNN\n",
    "    '''\n",
    "    X_cnn = X[:, np.newaxis, np.newaxis,:]\n",
    "    return X_cnn\n",
    "\n",
    "\n",
    "def load_data(filepath, y_index, cnn_shape=False):\n",
    "    '''\n",
    "    Pass the data filepath and returns the data as a numpy array with X and y\n",
    "    Args: filepath = data folder path\n",
    "          y_index = the index of the target column\n",
    "          cnn_shape = if True, returns shape (x1, 1, 1, x2)\n",
    "    \n",
    "    Returns: Dictionary of all datasets\n",
    "            Example: Access X and y of 'Pandas_ML_Project_SNR_Minus10'\n",
    "            dataset['Pandas_ML_Project_SNR_Minus10']['X']\n",
    "    '''\n",
    "    \n",
    "    filepaths = os.listdir(filepath) #list all files in the specified folder\n",
    "    \n",
    "    datasets = {}\n",
    "    \n",
    "    for file in filepaths:\n",
    "        data = pd.read_csv(filepath +'/' + file, usecols=range(1, 13))\n",
    "        X, y = get_Xy_to_numpy(data, y_index)\n",
    "        \n",
    "        if cnn_shape:\n",
    "            X = to_CNN(X)\n",
    "        \n",
    "        datasets[file.removesuffix('.csv')] = {'x': X}\n",
    "        datasets[file.removesuffix('.csv')]['y'] = y\n",
    "        \n",
    "        \n",
    "    return datasets\n",
    "\n",
    "\n",
    "def Xy_dataloader(X_numpy, y_numpy, batch_size=32):\n",
    "    '''\n",
    "    Pass X and y and load into torch DataLoaders\n",
    "    Args: X, y and batch_size\n",
    "    \n",
    "    Returns: Loader Object\n",
    "    '''\n",
    "    \n",
    "    X_tensor = torch.tensor(X_numpy).float()\n",
    "    y_tensor = torch.tensor(y_numpy).long()\n",
    "    \n",
    "    dataset = TensorDataset(X_tensor, y_tensor)\n",
    "\n",
    "    loader = DataLoader(dataset, batch_size=batch_size,shuffle=True)\n",
    "    \n",
    "    return loader"
   ]
  },
  {
   "cell_type": "code",
   "execution_count": 6,
   "id": "b81925e0",
   "metadata": {},
   "outputs": [
    {
     "name": "stdout",
     "output_type": "stream",
     "text": [
      "Pandas_ML_Project_SNR_Minus10\n",
      "Pandas_ML_Project_SNR_Minus15\n",
      "Pandas_ML_Project_SNR_Minus20\n",
      "Pandas_ML_Project_SNR_Minus25\n",
      "Pandas_ML_Project_SNR_Minus5\n",
      "Data loaded\n",
      "Example: X, y = data['Pandas_ML_Project_SNR_Minus5']['x'], data['Pandas_ML_Project_SNR_Minus5']['y']\n"
     ]
    }
   ],
   "source": [
    "data = load_data('../data', 11, cnn_shape=False)\n",
    "for i in data:\n",
    "    print(i)\n",
    "print(\"Data loaded\")\n",
    "print(\"Example: X, y = data['Pandas_ML_Project_SNR_Minus5']['x'], data['Pandas_ML_Project_SNR_Minus5']['y']\")"
   ]
  },
  {
   "cell_type": "code",
   "execution_count": null,
   "id": "a006c9fb",
   "metadata": {},
   "outputs": [],
   "source": []
  }
 ],
 "metadata": {
  "kernelspec": {
   "display_name": "Python 3 (ipykernel)",
   "language": "python",
   "name": "python3"
  },
  "language_info": {
   "codemirror_mode": {
    "name": "ipython",
    "version": 3
   },
   "file_extension": ".py",
   "mimetype": "text/x-python",
   "name": "python",
   "nbconvert_exporter": "python",
   "pygments_lexer": "ipython3",
   "version": "3.9.5"
  }
 },
 "nbformat": 4,
 "nbformat_minor": 5
}
