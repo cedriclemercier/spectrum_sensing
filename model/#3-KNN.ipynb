{
 "cells": [
  {
   "cell_type": "markdown",
   "id": "f174834e-beea-4e22-b36f-b2a6acf694e9",
   "metadata": {},
   "source": [
    "# 3. KNN"
   ]
  },
  {
   "cell_type": "code",
   "execution_count": 4,
   "id": "bc5b580b",
   "metadata": {},
   "outputs": [],
   "source": [
    "import os\n",
    "import pandas as pd\n",
    "import numpy as np\n",
    "import matplotlib.pyplot as plt"
   ]
  },
  {
   "cell_type": "code",
   "execution_count": 10,
   "id": "c489415f",
   "metadata": {},
   "outputs": [],
   "source": [
    "# Modeling and training packages\n",
    "import torch\n",
    "from torch import nn\n",
    "import torch.optim as optim\n",
    "import torch.nn.functional as F\n",
    "\n",
    "# Data Preparation packages\n",
    "from sklearn.model_selection import train_test_split\n",
    "from torch.utils.data import TensorDataset\n",
    "from torch.utils.data import DataLoader\n",
    "from scipy import signal\n",
    "\n",
    "from IPython.display import clear_output"
   ]
  },
  {
   "cell_type": "markdown",
   "id": "14971cf3-989b-40b8-9517-2a598b002795",
   "metadata": {},
   "source": [
    "<hr>\n",
    "\n",
    "## 1. Load data"
   ]
  },
  {
   "cell_type": "code",
   "execution_count": 4,
   "id": "39c7a0ad",
   "metadata": {},
   "outputs": [
    {
     "name": "stdout",
     "output_type": "stream",
     "text": [
      "Pandas_ML_Project_SNR_Minus10\n",
      "Pandas_ML_Project_SNR_Minus15\n",
      "Pandas_ML_Project_SNR_Minus20\n",
      "Pandas_ML_Project_SNR_Minus25\n",
      "Pandas_ML_Project_SNR_Minus5\n",
      "Data loaded\n",
      "Example: X, y = data['Pandas_ML_Project_SNR_Minus5']['x'], data['Pandas_ML_Project_SNR_Minus5']['y']\n"
     ]
    }
   ],
   "source": [
    "%run #0-LoadingData.ipynb"
   ]
  },
  {
   "cell_type": "markdown",
   "id": "a29ee6bc",
   "metadata": {},
   "source": [
    "<hr>\n",
    "\n",
    "## 2. Model"
   ]
  },
  {
   "cell_type": "code",
   "execution_count": null,
   "id": "2dfc2b02",
   "metadata": {},
   "outputs": [],
   "source": []
  }
 ],
 "metadata": {
  "kernelspec": {
   "display_name": "Python 3 (ipykernel)",
   "language": "python",
   "name": "python3"
  },
  "language_info": {
   "codemirror_mode": {
    "name": "ipython",
    "version": 3
   },
   "file_extension": ".py",
   "mimetype": "text/x-python",
   "name": "python",
   "nbconvert_exporter": "python",
   "pygments_lexer": "ipython3",
   "version": "3.9.5"
  }
 },
 "nbformat": 4,
 "nbformat_minor": 5
}
