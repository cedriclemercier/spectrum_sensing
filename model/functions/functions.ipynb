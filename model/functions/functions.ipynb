{
 "cells": [
  {
   "cell_type": "code",
   "execution_count": 10,
   "id": "f8dc986c",
   "metadata": {},
   "outputs": [],
   "source": [
    "import random\n",
    "def partition(X, y, percent_train = 0.8):\n",
    "    '''\n",
    "    Return train and test datasets\n",
    "    Args: X, y, percent_train (format 0.8)\n",
    "    \n",
    "    Returns: idx, X_train, y_train, X_test, y_test\n",
    "    '''\n",
    "    \n",
    "    idx = np.arange(0,y.shape[0])\n",
    "    \n",
    "    \n",
    "    random.shuffle(idx)\n",
    "    \n",
    "    split = int(y.shape[0] * percent_train)\n",
    "    train_idx = idx[:split]\n",
    "    test_idx = idx[split:]\n",
    "    \n",
    "\n",
    "    X_train = X[train_idx, :]\n",
    "    X_test =  X[test_idx, :]\n",
    "    \n",
    "    y_train = y[train_idx]\n",
    "    y_test =  y[test_idx]\n",
    "    print(X_train.shape, y_train.shape, X_test.shape, y_test.shape)\n",
    "\n",
    "    \n",
    "    return idx, X_train, y_train, X_test, y_test\n",
    "\n",
    "\n",
    "def Xy_dataloader(X_numpy, y_numpy, batch_size=32):\n",
    "    '''\n",
    "    Dataloader helper for CNN\n",
    "    Args: X_numpy, y_numpy, batch_size=32\n",
    "    \n",
    "    Returns: loader\n",
    "    '''\n",
    "    \n",
    "    X_tensor = torch.tensor(X_numpy).float()\n",
    "    y_tensor = torch.tensor(y_numpy).long()\n",
    "    \n",
    "    dataset = TensorDataset(X_tensor, y_tensor)\n",
    "\n",
    "    loader = DataLoader(dataset, batch_size=batch_size,shuffle=True)\n",
    "    \n",
    "    return loader"
   ]
  },
  {
   "cell_type": "code",
   "execution_count": 11,
   "id": "32b1194a",
   "metadata": {},
   "outputs": [
    {
     "name": "stdout",
     "output_type": "stream",
     "text": [
      "Loaded: \n",
      " - partition(X, y, percent_train = 0.8), \n",
      " - Xy_dataloader(X_numpy, y_numpy, batch_size=32)\n"
     ]
    }
   ],
   "source": [
    "print(\"Loaded: \\n - partition(X, y, percent_train = 0.8), \\n - Xy_dataloader(X_numpy, y_numpy, batch_size=32)\")"
   ]
  },
  {
   "cell_type": "code",
   "execution_count": null,
   "id": "9149a4fe",
   "metadata": {},
   "outputs": [],
   "source": []
  }
 ],
 "metadata": {
  "kernelspec": {
   "display_name": "Python 3 (ipykernel)",
   "language": "python",
   "name": "python3"
  },
  "language_info": {
   "codemirror_mode": {
    "name": "ipython",
    "version": 3
   },
   "file_extension": ".py",
   "mimetype": "text/x-python",
   "name": "python",
   "nbconvert_exporter": "python",
   "pygments_lexer": "ipython3",
   "version": "3.9.5"
  }
 },
 "nbformat": 4,
 "nbformat_minor": 5
}
