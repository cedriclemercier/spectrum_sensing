{
 "cells": [
  {
   "cell_type": "markdown",
   "id": "1e3daf26",
   "metadata": {},
   "source": [
    "# 4. Naive Bayes"
   ]
  },
  {
   "cell_type": "code",
   "execution_count": 38,
   "id": "8800cdb4",
   "metadata": {},
   "outputs": [],
   "source": [
    "import os\n",
    "import pandas as pd\n",
    "import numpy as np\n",
    "import matplotlib.pyplot as plt\n",
    "import math\n",
    "import random"
   ]
  },
  {
   "cell_type": "markdown",
   "id": "ab20f2b1",
   "metadata": {},
   "source": [
    "<hr>"
   ]
  },
  {
   "cell_type": "markdown",
   "id": "c85ab8fd",
   "metadata": {},
   "source": [
    "## 1. Import data and functions"
   ]
  },
  {
   "cell_type": "code",
   "execution_count": 39,
   "id": "83332e89",
   "metadata": {},
   "outputs": [
    {
     "name": "stdout",
     "output_type": "stream",
     "text": [
      "Loaded: \n",
      " - partition(X, y, percent_train = 0.8), \n",
      " - Xy_dataloader(X_numpy, y_numpy, batch_size=32)\n",
      "Pandas_ML_Project_SNR_Minus10\n",
      "Pandas_ML_Project_SNR_Minus15\n",
      "Pandas_ML_Project_SNR_Minus20\n",
      "Pandas_ML_Project_SNR_Minus25\n",
      "Pandas_ML_Project_SNR_Minus5\n",
      "Data loaded\n",
      "Example: X, y = data['Pandas_ML_Project_SNR_Minus5']['x'], data['Pandas_ML_Project_SNR_Minus5']['y']\n"
     ]
    }
   ],
   "source": [
    "%run functions/functions.ipynb\n",
    "%run #0-LoadingData.ipynb"
   ]
  },
  {
   "cell_type": "code",
   "execution_count": 40,
   "id": "2db3ef8d",
   "metadata": {},
   "outputs": [],
   "source": [
    "X, y = data['Pandas_ML_Project_SNR_Minus5']['x'], data['Pandas_ML_Project_SNR_Minus5']['y']"
   ]
  },
  {
   "cell_type": "markdown",
   "id": "056d6ce6",
   "metadata": {},
   "source": [
    "<hr>"
   ]
  },
  {
   "cell_type": "markdown",
   "id": "b948fe21",
   "metadata": {},
   "source": [
    "## 2. Model"
   ]
  },
  {
   "cell_type": "code",
   "execution_count": 5,
   "id": "a5942870",
   "metadata": {},
   "outputs": [],
   "source": [
    "# Calculate Gaussian parameters mu and sigma for each attribute over a dataset\n",
    "\n",
    "def get_gaussian_parameters(X, y):\n",
    "    parameters = {}\n",
    "    unique_y = np.unique(y)\n",
    "    for uy in unique_y:\n",
    "        mean = np.mean(X[y==uy], axis=0)\n",
    "        std = np.std(X[y==uy], axis=0)\n",
    "        py = y[y==uy].size / y.size\n",
    "        parameters[uy] = { 'prior': py, 'mean': mean, 'std': std }\n",
    "    return parameters, unique_y\n",
    "\n",
    "def calculateProbability(x, mu, sigma):\n",
    "    sigma = np.diag(sigma**2)\n",
    "    x = x.reshape(-1,1)\n",
    "    mu = mu.reshape(-1,1)\n",
    "    exponent = np.exp(-1/2*(x-mu).T@np.linalg.inv(sigma)@(x-mu))\n",
    "    return ((1/(np.sqrt(((2*np.pi)**x.size)*np.linalg.det(sigma))))*exponent)[0,0]\n",
    "\n",
    "# Calculate class conditional probabilities for given input data vector\n",
    "\n",
    "def predict_one(x, parameters, unique_y, prior=True):\n",
    "    probabilities = []\n",
    "    for key in parameters.keys():\n",
    "        probabilities.append(calculateProbability(x, parameters[key]['mean'], \n",
    "                                                  parameters[key]['std']) * (parameters[key]['prior']**(float(prior))))\n",
    "    probabilities = np.array(probabilities)\n",
    "    return unique_y[np.argmax(probabilities)]\n",
    "\n",
    "def getPredictions(X, parameters, unique_y,prior=True):\n",
    "    predictions = []\n",
    "    for i in range(X.shape[0]):\n",
    "        predictions.append(predict_one(X[i],parameters,unique_y,prior))\n",
    "    return np.array(predictions)\n",
    "\n",
    "# Get accuracy for test set\n",
    "\n",
    "def getAccuracy(y, y_pred):\n",
    "    correct = len(y[y==y_pred])\n",
    "    return correct/y.size"
   ]
  },
  {
   "cell_type": "code",
   "execution_count": 6,
   "id": "e66ece3d",
   "metadata": {},
   "outputs": [
    {
     "name": "stdout",
     "output_type": "stream",
     "text": [
      "(8000, 11) (8000,) (2000, 11) (2000,)\n"
     ]
    }
   ],
   "source": [
    "#train test split\n",
    "idx, X_train, y_train, X_test, y_test = partition(X, y, percent_train=0.8)"
   ]
  },
  {
   "cell_type": "markdown",
   "id": "8359e111",
   "metadata": {},
   "source": [
    "<hr>"
   ]
  },
  {
   "cell_type": "markdown",
   "id": "d2643cc3",
   "metadata": {},
   "source": [
    "## 3. Training & Testing"
   ]
  },
  {
   "cell_type": "markdown",
   "id": "37319442",
   "metadata": {},
   "source": [
    "### SR-5"
   ]
  },
  {
   "cell_type": "code",
   "execution_count": 7,
   "id": "8434e3d2",
   "metadata": {},
   "outputs": [
    {
     "name": "stdout",
     "output_type": "stream",
     "text": [
      "Accuracy with Prior = 1.0\n",
      "Accuracy without Prior = 1.0\n"
     ]
    }
   ],
   "source": [
    "# Train model\n",
    "\n",
    "parameters, unique_y = get_gaussian_parameters(X_train,y_train)\n",
    "prediction = getPredictions(X_test,parameters,unique_y)\n",
    "print(\"Accuracy with Prior =\",getAccuracy(y_test,prediction))\n",
    "\n",
    "prediction = getPredictions(X_test,parameters,unique_y,prior = False)\n",
    "print(\"Accuracy without Prior =\",getAccuracy(y_test,prediction))"
   ]
  },
  {
   "cell_type": "markdown",
   "id": "e1f99a7e",
   "metadata": {},
   "source": [
    "### SR-10"
   ]
  },
  {
   "cell_type": "code",
   "execution_count": 57,
   "id": "3811ae98",
   "metadata": {},
   "outputs": [
    {
     "name": "stdout",
     "output_type": "stream",
     "text": [
      "(8000, 2) (8000,) (2000, 2) (2000,)\n",
      "Accuracy with Prior = 0.989\n",
      "Accuracy without Prior = 0.989\n"
     ]
    }
   ],
   "source": [
    "X, y = data['Pandas_ML_Project_SNR_Minus10']['x'], data['Pandas_ML_Project_SNR_Minus10']['y']\n",
    "idx, X_train, y_train, X_test, y_test = partition(X, y, percent_train=0.8)\n",
    "parameters, unique_y = get_gaussian_parameters(X_train,y_train)\n",
    "prediction = getPredictions(X_test,parameters,unique_y)\n",
    "print(\"Accuracy with Prior =\",getAccuracy(y_test,prediction))\n",
    "\n",
    "prediction = getPredictions(X_test,parameters,unique_y,prior = False)\n",
    "print(\"Accuracy without Prior =\",getAccuracy(y_test,prediction))"
   ]
  },
  {
   "cell_type": "markdown",
   "id": "fa805a30",
   "metadata": {},
   "source": [
    "### SR-15"
   ]
  },
  {
   "cell_type": "code",
   "execution_count": 58,
   "id": "05dc3ba7",
   "metadata": {},
   "outputs": [
    {
     "name": "stdout",
     "output_type": "stream",
     "text": [
      "(8000, 2) (8000,) (2000, 2) (2000,)\n",
      "Accuracy with Prior = 0.79\n",
      "Accuracy without Prior = 0.789\n"
     ]
    }
   ],
   "source": [
    "X, y = data['Pandas_ML_Project_SNR_Minus15']['x'], data['Pandas_ML_Project_SNR_Minus15']['y']\n",
    "idx, X_train, y_train, X_test, y_test = partition(X, y, percent_train=0.8)\n",
    "parameters, unique_y = get_gaussian_parameters(X_train,y_train)\n",
    "prediction = getPredictions(X_test,parameters,unique_y)\n",
    "print(\"Accuracy with Prior =\",getAccuracy(y_test,prediction))\n",
    "\n",
    "prediction = getPredictions(X_test,parameters,unique_y,prior = False)\n",
    "print(\"Accuracy without Prior =\",getAccuracy(y_test,prediction))"
   ]
  },
  {
   "cell_type": "markdown",
   "id": "80558f92",
   "metadata": {},
   "source": [
    "### SR-20"
   ]
  },
  {
   "cell_type": "code",
   "execution_count": 60,
   "id": "dd9bcfdc",
   "metadata": {},
   "outputs": [
    {
     "name": "stdout",
     "output_type": "stream",
     "text": [
      "(8000, 2) (8000,) (2000, 2) (2000,)\n",
      "Accuracy with Prior = 0.602\n",
      "Accuracy without Prior = 0.6015\n"
     ]
    }
   ],
   "source": [
    "X, y = data['Pandas_ML_Project_SNR_Minus20']['x'], data['Pandas_ML_Project_SNR_Minus20']['y']\n",
    "idx, X_train, y_train, X_test, y_test = partition(X, y, percent_train=0.8)\n",
    "parameters, unique_y = get_gaussian_parameters(X_train,y_train)\n",
    "prediction = getPredictions(X_test,parameters,unique_y)\n",
    "print(\"Accuracy with Prior =\",getAccuracy(y_test,prediction))\n",
    "\n",
    "prediction = getPredictions(X_test,parameters,unique_y,prior = False)\n",
    "print(\"Accuracy without Prior =\",getAccuracy(y_test,prediction))"
   ]
  },
  {
   "cell_type": "markdown",
   "id": "68ee134c",
   "metadata": {},
   "source": [
    "### SR-25"
   ]
  },
  {
   "cell_type": "code",
   "execution_count": 65,
   "id": "ac7f2692",
   "metadata": {},
   "outputs": [
    {
     "name": "stdout",
     "output_type": "stream",
     "text": [
      "(8000, 2) (8000,) (2000, 2) (2000,)\n",
      "Accuracy with Prior = 0.53\n",
      "Accuracy without Prior = 0.5325\n"
     ]
    }
   ],
   "source": [
    "X, y = data['Pandas_ML_Project_SNR_Minus25']['x'], data['Pandas_ML_Project_SNR_Minus25']['y']\n",
    "idx, X_train, y_train, X_test, y_test = partition(X, y, percent_train=0.8)\n",
    "parameters, unique_y = get_gaussian_parameters(X_train,y_train)\n",
    "prediction = getPredictions(X_test,parameters,unique_y)\n",
    "print(\"Accuracy with Prior =\",getAccuracy(y_test,prediction))\n",
    "\n",
    "prediction = getPredictions(X_test,parameters,unique_y,prior = False)\n",
    "print(\"Accuracy without Prior =\",getAccuracy(y_test,prediction))"
   ]
  },
  {
   "cell_type": "markdown",
   "id": "304c4028",
   "metadata": {},
   "source": [
    "<hr>"
   ]
  },
  {
   "cell_type": "markdown",
   "id": "826a5fce",
   "metadata": {},
   "source": [
    "# 4.1 Naive Bayes with Feature Selection"
   ]
  },
  {
   "cell_type": "markdown",
   "id": "16bd5588",
   "metadata": {},
   "source": [
    "Reloading data with column selection. According to the correlation matrix below, we can notice that the most important features are: power, var_imaginary, var_real, range_imag, range_real"
   ]
  },
  {
   "cell_type": "code",
   "execution_count": 47,
   "id": "5afc4f53",
   "metadata": {},
   "outputs": [
    {
     "data": {
      "image/png": "[encoded data removed]",
      "text/plain": [
       "<Figure size 864x576 with 2 Axes>"
      ]
     },
     "metadata": {
      "needs_background": "light"
     },
     "output_type": "display_data"
    }
   ],
   "source": [
    "import seaborn as sns\n",
    "\n",
    "filepath = '../data/Pandas_ML_Project_SNR_Minus5.csv' # go up one folder\n",
    "\n",
    "data = pd.read_csv(filepath, delimiter=',', usecols=range(1, 13))\n",
    "\n",
    "plt.figure(figsize=(12,8))\n",
    "sns.heatmap(data.corr(), vmin=-1, vmax=1, annot=True)\n",
    "plt.show()"
   ]
  },
  {
   "cell_type": "markdown",
   "id": "94257428",
   "metadata": {},
   "source": [
    "Importing data again with feature selection"
   ]
  },
  {
   "cell_type": "code",
   "execution_count": 48,
   "id": "0b136aa5",
   "metadata": {},
   "outputs": [],
   "source": [
    "cols = [\"power\", \"var_imaginary\", \"var_real\", \"range_imag\", \"range_real\", \"Signal\"]\n",
    "data = load_data('../data', y_index=5, feature_selection=cols)"
   ]
  },
  {
   "cell_type": "markdown",
   "id": "96cd27be",
   "metadata": {},
   "source": [
    "Training sor SNR-25"
   ]
  },
  {
   "cell_type": "code",
   "execution_count": 49,
   "id": "8bfa6b31",
   "metadata": {},
   "outputs": [
    {
     "name": "stdout",
     "output_type": "stream",
     "text": [
      "(8000, 5) (8000,) (2000, 5) (2000,)\n",
      "Accuracy with Prior = 0.5265\n",
      "Accuracy without Prior = 0.5265\n"
     ]
    }
   ],
   "source": [
    "X, y = data['Pandas_ML_Project_SNR_Minus25']['x'], data['Pandas_ML_Project_SNR_Minus25']['y']\n",
    "idx, X_train, y_train, X_test, y_test = partition(X, y, percent_train=0.8)\n",
    "parameters, unique_y = get_gaussian_parameters(X_train,y_train)\n",
    "prediction = getPredictions(X_test,parameters,unique_y)\n",
    "print(\"Accuracy with Prior =\",getAccuracy(y_test,prediction))\n",
    "\n",
    "prediction = getPredictions(X_test,parameters,unique_y,prior = False)\n",
    "print(\"Accuracy without Prior =\",getAccuracy(y_test,prediction))"
   ]
  },
  {
   "cell_type": "markdown",
   "id": "fe274aa4",
   "metadata": {},
   "source": [
    "Feature selection doesn't affect the accuracy much by selecting the most important ones, we still get ~53% acc with 5 features on 11"
   ]
  },
  {
   "cell_type": "markdown",
   "id": "05655c52",
   "metadata": {},
   "source": [
    "### Testing with 2 most important features"
   ]
  },
  {
   "cell_type": "code",
   "execution_count": 56,
   "id": "4eb6d93a",
   "metadata": {},
   "outputs": [
    {
     "name": "stdout",
     "output_type": "stream",
     "text": [
      "(8000, 2) (8000,) (2000, 2) (2000,)\n",
      "Accuracy with Prior = 0.517\n",
      "Accuracy without Prior = 0.517\n"
     ]
    }
   ],
   "source": [
    "cols = [\"power\", \"var_real\", \"Signal\"]\n",
    "data = load_data('../data', y_index=2, feature_selection=cols)\n",
    "\n",
    "X, y = data['Pandas_ML_Project_SNR_Minus25']['x'], data['Pandas_ML_Project_SNR_Minus25']['y']\n",
    "idx, X_train, y_train, X_test, y_test = partition(X, y, percent_train=0.8)\n",
    "parameters, unique_y = get_gaussian_parameters(X_train,y_train)\n",
    "prediction = getPredictions(X_test,parameters,unique_y)\n",
    "print(\"Accuracy with Prior =\",getAccuracy(y_test,prediction))\n",
    "\n",
    "prediction = getPredictions(X_test,parameters,unique_y,prior = False)\n",
    "print(\"Accuracy without Prior =\",getAccuracy(y_test,prediction))"
   ]
  },
  {
   "cell_type": "code",
   "execution_count": null,
   "id": "d8237a8c",
   "metadata": {},
   "outputs": [],
   "source": []
  }
 ],
 "metadata": {
  "kernelspec": {
   "display_name": "Python 3 (ipykernel)",
   "language": "python",
   "name": "python3"
  },
  "language_info": {
   "codemirror_mode": {
    "name": "ipython",
    "version": 3
   },
   "file_extension": ".py",
   "mimetype": "text/x-python",
   "name": "python",
   "nbconvert_exporter": "python",
   "pygments_lexer": "ipython3",
   "version": "3.9.5"
  }
 },
 "nbformat": 4,
 "nbformat_minor": 5
}
