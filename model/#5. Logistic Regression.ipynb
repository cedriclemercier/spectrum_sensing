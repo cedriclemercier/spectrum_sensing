{
 "cells": [
  {
   "cell_type": "markdown",
   "id": "49784aac",
   "metadata": {},
   "source": [
    "# 5. Logistic Regression"
   ]
  },
  {
   "cell_type": "markdown",
   "id": "c0aab642",
   "metadata": {},
   "source": [
    "## 1. Load Data"
   ]
  },
  {
   "cell_type": "code",
   "execution_count": 1,
   "id": "a53b819e",
   "metadata": {},
   "outputs": [],
   "source": [
    "import numpy as np\n",
    "import matplotlib.pyplot as plt"
   ]
  },
  {
   "cell_type": "code",
   "execution_count": 2,
   "id": "91c8a1a8",
   "metadata": {},
   "outputs": [
    {
     "name": "stdout",
     "output_type": "stream",
     "text": [
      "Pandas_ML_Project_SNR_Minus10\n",
      "Pandas_ML_Project_SNR_Minus15\n",
      "Pandas_ML_Project_SNR_Minus20\n",
      "Pandas_ML_Project_SNR_Minus25\n",
      "Pandas_ML_Project_SNR_Minus5\n",
      "Data loaded\n",
      "Example: X, y = data['Pandas_ML_Project_SNR_Minus5']['x'], data['Pandas_ML_Project_SNR_Minus5']['y']\n",
      "Loaded: \n",
      " - partition(X, y, percent_train = 0.8), \n",
      " - Xy_dataloader(X_numpy, y_numpy, batch_size=32)\n"
     ]
    }
   ],
   "source": [
    "%run #0-LoadingData.ipynb\n",
    "%run functions/functions.ipynb"
   ]
  },
  {
   "cell_type": "markdown",
   "id": "509a8c76",
   "metadata": {},
   "source": [
    "<hr>"
   ]
  },
  {
   "cell_type": "markdown",
   "id": "3c19db04",
   "metadata": {},
   "source": [
    "## 2. Model"
   ]
  },
  {
   "cell_type": "code",
   "execution_count": 3,
   "id": "51b7f7d3",
   "metadata": {},
   "outputs": [],
   "source": [
    "class LogisticRegression():\n",
    "    \n",
    "    def __init__(self):\n",
    "        pass\n",
    "    \n",
    "    def sigmoid(self,z):   \n",
    "        return 1 / (1 + np.exp(-z))\n",
    "\n",
    "    def h(self,X, theta):\n",
    "        return self.sigmoid(X @ theta)\n",
    "\n",
    "    def grad_j(self,X, y, y_pred):\n",
    "        gradj = X.T @ (y - y_pred) / X.shape[0]\n",
    "        return gradj\n",
    "\n",
    "    def j(self, theta, X, y):    \n",
    "        y_pred = self.h(X, theta)\n",
    "        error = (-y * np.log(y_pred)) - ((1 - y) * np.log(1 - y_pred))\n",
    "        cost = sum(error) / X.shape[0]\n",
    "        grad = self.grad_j(X, y, y_pred)\n",
    "        return cost[0], grad\n",
    "    \n",
    "    def train(self, X, y, alpha, num_iters, theta_initial):\n",
    "        m, n = X.shape\n",
    "        X = np.insert(X, 0, 1, axis=1)\n",
    "        y = y.reshape(m, 1)\n",
    "        \n",
    "        self.theta = theta_initial\n",
    "        \n",
    "        self.j_history = []\n",
    "        for i in range(num_iters):\n",
    "            \n",
    "            cost, grad = self.j(self.theta, X, y)\n",
    "            self.theta = self.theta + alpha * grad\n",
    "            self.j_history.append(cost)\n",
    "            \n",
    "            if i % 1000 == 0:\n",
    "                print(f\"Iteration {i}. Loss: {cost}\")\n",
    "            \n",
    "    def predict(self, X):\n",
    "        X = np.insert(X, 0, 1, axis=1)\n",
    "        self.y_pred = self.h(X, self.theta)\n",
    "        self.y_pred = np.round(self.y_pred.reshape(-1,), 0).astype(int)\n",
    "        return self.y_pred\n",
    "    \n",
    "    def get_accuracy(self, X, y):\n",
    "        acc = (np.sum(self.y_pred == y) / len(y)) * 100\n",
    "        return acc\n",
    "    \n",
    "    def plot(self):\n",
    "        plt.plot(self.j_history)\n",
    "        plt.xlabel(\"Iteration\")\n",
    "        plt.ylabel(\"$J(\\theta)$\")\n",
    "        plt.title(\"Training cost over time with batch gradient descent NORMALIZED\")\n",
    "        plt.show()\n",
    "        "
   ]
  },
  {
   "cell_type": "code",
   "execution_count": 4,
   "id": "2d8f34eb",
   "metadata": {},
   "outputs": [
    {
     "name": "stdout",
     "output_type": "stream",
     "text": [
      "(8000, 11) (8000,) (2000, 11) (2000,)\n"
     ]
    }
   ],
   "source": [
    "#selecting SNR-5\n",
    "X, y = data[\"Pandas_ML_Project_SNR_Minus5\"]['x'], data[\"Pandas_ML_Project_SNR_Minus5\"]['y']\n",
    "idx, X_train, y_train, X_test, y_test = partition(X, y, percent_train=0.8)"
   ]
  },
  {
   "cell_type": "markdown",
   "id": "1fc3e0a6",
   "metadata": {},
   "source": [
    "<hr>"
   ]
  },
  {
   "cell_type": "markdown",
   "id": "b005e522",
   "metadata": {},
   "source": [
    "## 3. Train"
   ]
  },
  {
   "cell_type": "code",
   "execution_count": 6,
   "id": "6f103192",
   "metadata": {},
   "outputs": [],
   "source": [
    "# Train for 1000000 iterations on full training set\n",
    "m, n = X.shape\n",
    "alpha = .0005\n",
    "num_iters = 10000\n",
    "theta_initial = np.zeros((n+1, 1))"
   ]
  },
  {
   "cell_type": "code",
   "execution_count": 7,
   "id": "c2d6ac93",
   "metadata": {},
   "outputs": [
    {
     "name": "stdout",
     "output_type": "stream",
     "text": [
      "Iteration 0. Loss: 0.6931471805600389\n",
      "Iteration 1000. Loss: 0.6632924307772857\n",
      "Iteration 2000. Loss: 0.6382685218686495\n",
      "Iteration 3000. Loss: 0.6159358439057683\n",
      "Iteration 4000. Loss: 0.5953313259575067\n",
      "Iteration 5000. Loss: 0.5760062556371726\n",
      "Iteration 6000. Loss: 0.5577367641315398\n",
      "Iteration 7000. Loss: 0.5403981662926559\n",
      "Iteration 8000. Loss: 0.5239103509063994\n",
      "Iteration 9000. Loss: 0.5082139599520183\n",
      "Theta optimized: [[-0.24658456]\n",
      " [ 0.55417959]\n",
      " [-0.12830238]\n",
      " [-0.12289955]\n",
      " [ 0.48626631]\n",
      " [ 0.49720425]\n",
      " [ 0.13182935]\n",
      " [ 0.16397664]\n",
      " [-0.12983288]\n",
      " [-0.13471796]\n",
      " [-0.03794897]\n",
      " [-0.0325705 ]]\n",
      "Cost with optimized theta: 0.4932745501298352\n"
     ]
    }
   ],
   "source": [
    "LRModel = LogisticRegression()\n",
    "LRModel.train(X_train, y_train, alpha, num_iters, theta_initial)\n",
    "\n",
    "print(\"Theta optimized:\", LRModel.theta)\n",
    "print(\"Cost with optimized theta:\", LRModel.j_history[-1])"
   ]
  },
  {
   "cell_type": "markdown",
   "id": "31abbf97",
   "metadata": {},
   "source": [
    "## 4. Predict"
   ]
  },
  {
   "cell_type": "code",
   "execution_count": 8,
   "id": "6ef5b8e3",
   "metadata": {},
   "outputs": [
    {
     "name": "stdout",
     "output_type": "stream",
     "text": [
      "Training set accuracy: 100.0\n",
      "Testing set accuracy: 100.0\n"
     ]
    },
    {
     "data": {
      "image/png": "[encoded data removed]",
      "text/plain": [
       "<Figure size 432x288 with 1 Axes>"
      ]
     },
     "metadata": {
      "needs_background": "light"
     },
     "output_type": "display_data"
    }
   ],
   "source": [
    "y_pred = LRModel.predict(X_train)\n",
    "print(\"Training set accuracy:\", LRModel.get_accuracy(X_train, y_train))\n",
    "\n",
    "y_pred = LRModel.predict(X_test)\n",
    "print(\"Testing set accuracy:\", LRModel.get_accuracy(X_test, y_test))\n",
    "\n",
    "LRModel.plot()"
   ]
  },
  {
   "cell_type": "markdown",
   "id": "81b90e48",
   "metadata": {},
   "source": [
    "## 5. Training and predicting on all SNR"
   ]
  },
  {
   "cell_type": "markdown",
   "id": "faaff4ed",
   "metadata": {},
   "source": [
    "### SNR-10"
   ]
  },
  {
   "cell_type": "code",
   "execution_count": 9,
   "id": "9eb85c70",
   "metadata": {},
   "outputs": [
    {
     "name": "stdout",
     "output_type": "stream",
     "text": [
      "(8000, 11) (8000,) (2000, 11) (2000,)\n",
      "Iteration 0. Loss: 0.6931471805600389\n",
      "Iteration 1000. Loss: 0.6811326869939145\n",
      "Iteration 2000. Loss: 0.6709806147034985\n",
      "Iteration 3000. Loss: 0.6617434871063146\n",
      "Iteration 4000. Loss: 0.653008339318946\n",
      "Iteration 5000. Loss: 0.6445936846728008\n",
      "Iteration 6000. Loss: 0.6364183206892412\n",
      "Iteration 7000. Loss: 0.6284445898306007\n",
      "Iteration 8000. Loss: 0.6206537984440182\n",
      "Iteration 9000. Loss: 0.6130355446149296\n",
      "Theta optimized: [[-0.15426065]\n",
      " [ 0.41293937]\n",
      " [-0.08236117]\n",
      " [-0.07475714]\n",
      " [ 0.31664441]\n",
      " [ 0.30842883]\n",
      " [ 0.04168197]\n",
      " [ 0.05271771]\n",
      " [-0.07432196]\n",
      " [-0.08261241]\n",
      " [-0.04434264]\n",
      " [-0.05216218]]\n",
      "Cost with optimized theta: 0.6055904479745393\n",
      "Training set accuracy: 78.4\n",
      "Testing set accuracy: 77.45\n"
     ]
    },
    {
     "data": {
      "image/png": "[encoded data removed]",
      "text/plain": [
       "<Figure size 432x288 with 1 Axes>"
      ]
     },
     "metadata": {
      "needs_background": "light"
     },
     "output_type": "display_data"
    }
   ],
   "source": [
    "X, y = data[\"Pandas_ML_Project_SNR_Minus10\"]['x'], data[\"Pandas_ML_Project_SNR_Minus10\"]['y']\n",
    "idx, X_train, y_train, X_test, y_test = partition(X, y, percent_train=0.8)\n",
    "LRModel = LogisticRegression()\n",
    "LRModel.train(X_train, y_train, alpha, num_iters, theta_initial)\n",
    "\n",
    "print(\"Theta optimized:\", LRModel.theta)\n",
    "print(\"Cost with optimized theta:\", LRModel.j_history[-1])\n",
    "\n",
    "y_pred = LRModel.predict(X_train)\n",
    "print(\"Training set accuracy:\", LRModel.get_accuracy(X_train, y_train))\n",
    "\n",
    "y_pred = LRModel.predict(X_test)\n",
    "print(\"Testing set accuracy:\", LRModel.get_accuracy(X_test, y_test))\n",
    "\n",
    "LRModel.plot()"
   ]
  },
  {
   "cell_type": "markdown",
   "id": "9ea48dc2",
   "metadata": {},
   "source": [
    "### SNR-15"
   ]
  },
  {
   "cell_type": "code",
   "execution_count": 13,
   "id": "5db39e95",
   "metadata": {},
   "outputs": [
    {
     "name": "stdout",
     "output_type": "stream",
     "text": [
      "(8000, 11) (8000,) (2000, 11) (2000,)\n",
      "Iteration 0. Loss: 0.6931471805600389\n",
      "Iteration 1000. Loss: 0.6909084609657273\n",
      "Iteration 2000. Loss: 0.6889812107712239\n",
      "Iteration 3000. Loss: 0.687201687952303\n",
      "Iteration 4000. Loss: 0.6854964356358958\n",
      "Iteration 5000. Loss: 0.6838324534551972\n",
      "Iteration 6000. Loss: 0.6821948714657357\n",
      "Iteration 7000. Loss: 0.6805769479365302\n",
      "Iteration 8000. Loss: 0.6789755867344193\n",
      "Iteration 9000. Loss: 0.6773893275297874\n",
      "Theta optimized: [[-0.0572852 ]\n",
      " [ 0.19336307]\n",
      " [-0.03117296]\n",
      " [-0.03032339]\n",
      " [ 0.14042731]\n",
      " [ 0.13544674]\n",
      " [ 0.01291769]\n",
      " [ 0.01626072]\n",
      " [-0.03180036]\n",
      " [-0.02302418]\n",
      " [-0.03157342]\n",
      " [-0.02264729]]\n",
      "Cost with optimized theta: 0.6758190092201115\n",
      "Training set accuracy: 57.025000000000006\n",
      "Testing set accuracy: 55.300000000000004\n"
     ]
    },
    {
     "data": {
      "image/png": "[encoded data removed]",
      "text/plain": [
       "<Figure size 432x288 with 1 Axes>"
      ]
     },
     "metadata": {
      "needs_background": "light"
     },
     "output_type": "display_data"
    }
   ],
   "source": [
    "X, y = data[\"Pandas_ML_Project_SNR_Minus15\"]['x'], data[\"Pandas_ML_Project_SNR_Minus15\"]['y']\n",
    "idx, X_train, y_train, X_test, y_test = partition(X, y, percent_train=0.8)\n",
    "LRModel = LogisticRegression()\n",
    "LRModel.train(X_train, y_train, alpha, num_iters, theta_initial)\n",
    "\n",
    "print(\"Theta optimized:\", LRModel.theta)\n",
    "print(\"Cost with optimized theta:\", LRModel.j_history[-1])\n",
    "\n",
    "y_pred = LRModel.predict(X_train)\n",
    "print(\"Training set accuracy:\", LRModel.get_accuracy(X_train, y_train))\n",
    "\n",
    "y_pred = LRModel.predict(X_test)\n",
    "print(\"Testing set accuracy:\", LRModel.get_accuracy(X_test, y_test))\n",
    "\n",
    "LRModel.plot()"
   ]
  },
  {
   "cell_type": "markdown",
   "id": "82e98174",
   "metadata": {},
   "source": [
    "### SNR-20"
   ]
  },
  {
   "cell_type": "code",
   "execution_count": 11,
   "id": "6e9918cc",
   "metadata": {},
   "outputs": [
    {
     "name": "stdout",
     "output_type": "stream",
     "text": [
      "(8000, 11) (8000,) (2000, 11) (2000,)\n",
      "Iteration 0. Loss: 0.6931471805600389\n",
      "Iteration 1000. Loss: 0.6928055211355274\n",
      "Iteration 2000. Loss: 0.6925212828133879\n",
      "Iteration 3000. Loss: 0.6922638028151176\n",
      "Iteration 4000. Loss: 0.6920193179827798\n",
      "Iteration 5000. Loss: 0.6917816461860263\n",
      "Iteration 6000. Loss: 0.6915480061863876\n",
      "Iteration 7000. Loss: 0.691317142541987\n",
      "Iteration 8000. Loss: 0.6910884844322702\n",
      "Iteration 9000. Loss: 0.6908617682721032\n",
      "Theta optimized: [[-0.01993378]\n",
      " [ 0.07725786]\n",
      " [-0.01322864]\n",
      " [-0.01159987]\n",
      " [ 0.04469618]\n",
      " [ 0.05430746]\n",
      " [ 0.0031988 ]\n",
      " [ 0.00228089]\n",
      " [-0.01374715]\n",
      " [-0.0085126 ]\n",
      " [-0.01029319]\n",
      " [-0.00840284]]\n",
      "Cost with optimized theta: 0.6906370924055912\n",
      "Training set accuracy: 52.287499999999994\n",
      "Testing set accuracy: 50.64999999999999\n"
     ]
    },
    {
     "data": {
      "image/png": "[encoded data removed]",
      "text/plain": [
       "<Figure size 432x288 with 1 Axes>"
      ]
     },
     "metadata": {
      "needs_background": "light"
     },
     "output_type": "display_data"
    }
   ],
   "source": [
    "X, y = data[\"Pandas_ML_Project_SNR_Minus20\"]['x'], data[\"Pandas_ML_Project_SNR_Minus20\"]['y']\n",
    "idx, X_train, y_train, X_test, y_test = partition(X, y, percent_train=0.8)\n",
    "LRModel = LogisticRegression()\n",
    "LRModel.train(X_train, y_train, alpha, num_iters, theta_initial)\n",
    "\n",
    "print(\"Theta optimized:\", LRModel.theta)\n",
    "print(\"Cost with optimized theta:\", LRModel.j_history[-1])\n",
    "\n",
    "y_pred = LRModel.predict(X_train)\n",
    "print(\"Training set accuracy:\", LRModel.get_accuracy(X_train, y_train))\n",
    "\n",
    "y_pred = LRModel.predict(X_test)\n",
    "print(\"Testing set accuracy:\", LRModel.get_accuracy(X_test, y_test))\n",
    "\n",
    "LRModel.plot()"
   ]
  },
  {
   "cell_type": "markdown",
   "id": "587a2bd6",
   "metadata": {},
   "source": [
    "### SNR-25"
   ]
  },
  {
   "cell_type": "code",
   "execution_count": 14,
   "id": "cfe44c13",
   "metadata": {},
   "outputs": [
    {
     "name": "stdout",
     "output_type": "stream",
     "text": [
      "(8000, 11) (8000,) (2000, 11) (2000,)\n",
      "Iteration 0. Loss: 0.6931471805600389\n",
      "Iteration 1000. Loss: 0.693106282314797\n",
      "Iteration 2000. Loss: 0.6930783933571387\n",
      "Iteration 3000. Loss: 0.693056103129874\n",
      "Iteration 4000. Loss: 0.693036263846841\n",
      "Iteration 5000. Loss: 0.6930175381003679\n",
      "Iteration 6000. Loss: 0.6929993573513764\n",
      "Iteration 7000. Loss: 0.6929814796078401\n",
      "Iteration 8000. Loss: 0.6929638015705104\n",
      "Iteration 9000. Loss: 0.6929462788493961\n",
      "Theta optimized: [[-0.0030879 ]\n",
      " [ 0.02281004]\n",
      " [-0.00236718]\n",
      " [ 0.00033196]\n",
      " [ 0.01396328]\n",
      " [ 0.01381391]\n",
      " [-0.00409417]\n",
      " [-0.00144284]\n",
      " [-0.00063428]\n",
      " [-0.00149499]\n",
      " [-0.00612591]\n",
      " [ 0.00220639]]\n",
      "Cost with optimized theta: 0.6929289094007145\n",
      "Training set accuracy: 50.349999999999994\n",
      "Testing set accuracy: 49.0\n"
     ]
    },
    {
     "data": {
      "image/png": "[encoded data removed]",
      "text/plain": [
       "<Figure size 432x288 with 1 Axes>"
      ]
     },
     "metadata": {
      "needs_background": "light"
     },
     "output_type": "display_data"
    }
   ],
   "source": [
    "X, y = data[\"Pandas_ML_Project_SNR_Minus25\"]['x'], data[\"Pandas_ML_Project_SNR_Minus25\"]['y']\n",
    "idx, X_train, y_train, X_test, y_test = partition(X, y, percent_train=0.8)\n",
    "LRModel = LogisticRegression()\n",
    "LRModel.train(X_train, y_train, alpha, num_iters, theta_initial)\n",
    "\n",
    "print(\"Theta optimized:\", LRModel.theta)\n",
    "print(\"Cost with optimized theta:\", LRModel.j_history[-1])\n",
    "\n",
    "y_pred = LRModel.predict(X_train)\n",
    "print(\"Training set accuracy:\", LRModel.get_accuracy(X_train, y_train))\n",
    "\n",
    "y_pred = LRModel.predict(X_test)\n",
    "print(\"Testing set accuracy:\", LRModel.get_accuracy(X_test, y_test))\n",
    "\n",
    "LRModel.plot()"
   ]
  },
  {
   "cell_type": "markdown",
   "id": "a98d4eb4",
   "metadata": {},
   "source": [
    "# 5. Logistic Regression using Sklearn"
   ]
  },
  {
   "cell_type": "code",
   "execution_count": 21,
   "id": "edd3063b",
   "metadata": {},
   "outputs": [
    {
     "name": "stdout",
     "output_type": "stream",
     "text": [
      "=========Average precision score=======\n",
      "0.5116392698183567\n"
     ]
    }
   ],
   "source": [
    "from sklearn.metrics import average_precision_score\n",
    "print(\"=========Average precision score=======\")\n",
    "print(average_precision_score(y_test, yhat))"
   ]
  },
  {
   "cell_type": "code",
   "execution_count": 22,
   "id": "abb608f7",
   "metadata": {},
   "outputs": [
    {
     "name": "stdout",
     "output_type": "stream",
     "text": [
      "=========Average precision score=======\n",
      "0.5116392698183567\n",
      "=========Classification report=======\n",
      "Report:                precision    recall  f1-score   support\n",
      "\n",
      "           0       0.56      0.50      0.53      1022\n",
      "           1       0.53      0.59      0.56       978\n",
      "\n",
      "    accuracy                           0.54      2000\n",
      "   macro avg       0.54      0.54      0.54      2000\n",
      "weighted avg       0.54      0.54      0.54      2000\n",
      "\n"
     ]
    }
   ],
   "source": [
    "from sklearn.linear_model import LogisticRegression\n",
    "from sklearn.preprocessing import label_binarize\n",
    "from sklearn.metrics import classification_report\n",
    "\n",
    "model = LogisticRegression()\n",
    "\n",
    "model.fit(X_train, y_train)\n",
    "yhat = model.predict(X_test)\n",
    "\n",
    "print(\"=========Average precision score=======\")\n",
    "print(average_precision_score(y_test, yhat))\n",
    "\n",
    "print(\"=========Classification report=======\")\n",
    "print(\"Report: \", classification_report(y_test, yhat))"
   ]
  },
  {
   "cell_type": "code",
   "execution_count": 23,
   "id": "711255c0",
   "metadata": {},
   "outputs": [
    {
     "name": "stdout",
     "output_type": "stream",
     "text": [
      "Best: 0.526292 using {'C': 0.01, 'penalty': 'l2', 'solver': 'lbfgs'}\n",
      "0.525583 (0.017041) with: {'C': 100, 'penalty': 'l2', 'solver': 'newton-cg'}\n",
      "0.526042 (0.016671) with: {'C': 100, 'penalty': 'l2', 'solver': 'lbfgs'}\n",
      "0.525625 (0.016897) with: {'C': 100, 'penalty': 'l2', 'solver': 'liblinear'}\n",
      "0.526250 (0.016141) with: {'C': 10, 'penalty': 'l2', 'solver': 'newton-cg'}\n",
      "0.525958 (0.016175) with: {'C': 10, 'penalty': 'l2', 'solver': 'lbfgs'}\n",
      "0.526250 (0.016121) with: {'C': 10, 'penalty': 'l2', 'solver': 'liblinear'}\n",
      "0.525500 (0.016013) with: {'C': 1.0, 'penalty': 'l2', 'solver': 'newton-cg'}\n",
      "0.525375 (0.016008) with: {'C': 1.0, 'penalty': 'l2', 'solver': 'lbfgs'}\n",
      "0.525458 (0.015467) with: {'C': 1.0, 'penalty': 'l2', 'solver': 'liblinear'}\n",
      "0.524667 (0.015492) with: {'C': 0.1, 'penalty': 'l2', 'solver': 'newton-cg'}\n",
      "0.524750 (0.015426) with: {'C': 0.1, 'penalty': 'l2', 'solver': 'lbfgs'}\n",
      "0.523875 (0.016369) with: {'C': 0.1, 'penalty': 'l2', 'solver': 'liblinear'}\n",
      "0.526167 (0.015639) with: {'C': 0.01, 'penalty': 'l2', 'solver': 'newton-cg'}\n",
      "0.526292 (0.015763) with: {'C': 0.01, 'penalty': 'l2', 'solver': 'lbfgs'}\n",
      "0.521083 (0.016098) with: {'C': 0.01, 'penalty': 'l2', 'solver': 'liblinear'}\n"
     ]
    }
   ],
   "source": [
    "from sklearn.model_selection import RepeatedStratifiedKFold\n",
    "from sklearn.model_selection import GridSearchCV\n",
    "from sklearn.linear_model import LogisticRegression\n",
    "\n",
    "\n",
    "model = LogisticRegression()\n",
    "solvers = ['newton-cg', 'lbfgs', 'liblinear']\n",
    "penalty = ['l2']\n",
    "c_values = [100, 10, 1.0, 0.1, 0.01]\n",
    "\n",
    "\n",
    "grid = dict(solver=solvers,penalty=penalty,C=c_values)\n",
    "cv = RepeatedStratifiedKFold(n_splits=10, n_repeats=3, random_state=1)\n",
    "\n",
    "grid_search = GridSearchCV(estimator=model, param_grid=grid, n_jobs=-1, cv=cv, scoring='accuracy',error_score=0)\n",
    "grid_result = grid_search.fit(X_train, y_train)\n",
    "\n",
    "\n",
    "print(\"Best: %f using %s\" % (grid_result.best_score_, grid_result.best_params_))\n",
    "\n",
    "means = grid_result.cv_results_['mean_test_score']\n",
    "stds = grid_result.cv_results_['std_test_score']\n",
    "params = grid_result.cv_results_['params']\n",
    "\n",
    "for mean, stdev, param in zip(means, stds, params):\n",
    "    print(\"%f (%f) with: %r\" % (mean, stdev, param))"
   ]
  },
  {
   "cell_type": "code",
   "execution_count": null,
   "id": "65c54e65",
   "metadata": {},
   "outputs": [],
   "source": []
  }
 ],
 "metadata": {
  "kernelspec": {
   "display_name": "Python 3 (ipykernel)",
   "language": "python",
   "name": "python3"
  },
  "language_info": {
   "codemirror_mode": {
    "name": "ipython",
    "version": 3
   },
   "file_extension": ".py",
   "mimetype": "text/x-python",
   "name": "python",
   "nbconvert_exporter": "python",
   "pygments_lexer": "ipython3",
   "version": "3.9.5"
  }
 },
 "nbformat": 4,
 "nbformat_minor": 5
}
